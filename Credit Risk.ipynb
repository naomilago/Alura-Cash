{
 "cells": [
  {
   "cell_type": "markdown",
   "metadata": {},
   "source": [
    "<h1 align='center' style=\"color: darksalmon; font-size: 48px\"><strong>Alura Cash</strong></h1>\n",
    "\n",
    "<h3 align='center'>A cute finance project using Data Science concepts</h3><br>\n",
    "\n",
    "<p align='center' style='text-align: justify'>\n",
    "I've been hired as a freelancer data scientist to work for an international digital bank called Alura Cash. At the first meeting, the financial management informs me that people are repeatedly defaulting after credits have been released. Therefore, I'm asked for a solution to decrease financial losses due to borrowers who do not pay their debts.\n",
    "</p>\n",
    "\n",
    "<p align='center' style='text-align: justify'>\n",
    "As a data scientist, I suggest a study around financial and loan application information aiming to find patterns that might indicate a possible default.\n",
    "</p>\n",
    "\n",
    "<p align='center' style='text-align: justify'>\n",
    "So, I request a dataset that contains informations of customer, loan application, credit history, as well as whether the borrower is delinquent or not. With this data, I know that I can model a classifier that can find potential delinquent customers and solve the Alura Cash's problem. <br> <br>\n",
    "\n",
    ">&nbsp; <br>\n",
    ">Note: This is a fictional case study. The dataset used in this project is not real. <br>\n",
    ">&nbsp; <br>\n",
    "\n",
    "</p>"
   ]
  },
  {
   "cell_type": "markdown",
   "metadata": {},
   "source": [
    "# 1. Data Collection"
   ]
  },
  {
   "cell_type": "markdown",
   "metadata": {},
   "source": [
    "Here, I'll be using the dataset provided by Alura Cash, at the first meeting, that contains information about 34,501 customers. <br><br>\n",
    "\n",
    "<p align='center'>\n",
    "    <i>In order to also access this data, you can follow <a href='https://raw.githubusercontent.com/Mirlaa/Challenge-Data-Science-1ed/main/Dados/dados_juntos.csv'>this link</a></i> 😊 \n",
    "</p>"
   ]
  },
  {
   "cell_type": "markdown",
   "metadata": {},
   "source": [
    "## 1.1 - Importing the dataset"
   ]
  },
  {
   "cell_type": "markdown",
   "metadata": {},
   "source": [
    "As I downloaded it to my local environment, I'll import it from it path using the pandas library. I'll be also importing numpy and plotly for now."
   ]
  },
  {
   "cell_type": "code",
   "execution_count": 2,
   "metadata": {},
   "outputs": [],
   "source": [
    "import plotly.express as px\n",
    "import pandas as pd\n",
    "import numpy as np\n",
    "\n",
    "uri = './data/alura_cash_data.csv'\n",
    "df = pd.read_csv(uri)"
   ]
  },
  {
   "cell_type": "markdown",
   "metadata": {},
   "source": [
    "## 1.2 - Data Description"
   ]
  },
  {
   "cell_type": "markdown",
   "metadata": {},
   "source": [
    "Let's check some useful info about this set regarding the number of rows and columns, the data types, the number of missing values, and some statistics around the numerical variables."
   ]
  },
  {
   "cell_type": "markdown",
   "metadata": {},
   "source": [
    "### 1.2.1 - Number of rows and columns"
   ]
  },
  {
   "cell_type": "code",
   "execution_count": 18,
   "metadata": {},
   "outputs": [
    {
     "name": "stdout",
     "output_type": "stream",
     "text": [
      "\n",
      "    This data contains the following amount of rows and columns:\n",
      "\n",
      "    => 34501 rows and 12 columns.\n",
      "\n"
     ]
    }
   ],
   "source": [
    "print('''\n",
    "    This data contains the following amount of rows and columns:\n",
    "\n",
    "    => {} rows and {} columns.\n",
    "'''.format(df.shape[0], df.shape[1]))\n"
   ]
  },
  {
   "cell_type": "markdown",
   "metadata": {},
   "source": [
    "### 1.2.2 - Data types"
   ]
  },
  {
   "cell_type": "code",
   "execution_count": 14,
   "metadata": {},
   "outputs": [
    {
     "name": "stdout",
     "output_type": "stream",
     "text": [
      "person_age <-> float64\n",
      "person_income <-> float64\n",
      "person_home_ownership <-> object\n",
      "person_emp_length <-> float64\n",
      "loan_intent <-> object\n",
      "loan_grade <-> object\n",
      "loan_amnt <-> float64\n",
      "loan_int_rate <-> float64\n",
      "loan_status <-> float64\n",
      "loan_percent_income <-> float64\n",
      "cb_person_default_on_file <-> object\n",
      "cb_person_cred_hist_length <-> float64\n"
     ]
    }
   ],
   "source": [
    "for column in df.columns:\n",
    "    print('{} <-> {}'.format(column, df[column].dtype))"
   ]
  },
  {
   "cell_type": "markdown",
   "metadata": {},
   "source": [
    "### 1.2.3 - Missing values"
   ]
  },
  {
   "cell_type": "code",
   "execution_count": 19,
   "metadata": {},
   "outputs": [
    {
     "data": {
      "text/plain": [
       "person_age                     324\n",
       "person_income                  339\n",
       "person_home_ownership          331\n",
       "person_emp_length             1254\n",
       "loan_intent                    315\n",
       "loan_grade                     313\n",
       "loan_amnt                      331\n",
       "loan_int_rate                 3630\n",
       "loan_status                    343\n",
       "loan_percent_income            319\n",
       "cb_person_default_on_file      370\n",
       "cb_person_cred_hist_length       4\n",
       "dtype: int64"
      ]
     },
     "execution_count": 19,
     "metadata": {},
     "output_type": "execute_result"
    }
   ],
   "source": [
    "df.isna().sum()"
   ]
  },
  {
   "cell_type": "markdown",
   "metadata": {},
   "source": [
    "### 1.2.4 - Numerical variables"
   ]
  },
  {
   "cell_type": "code",
   "execution_count": 20,
   "metadata": {},
   "outputs": [
    {
     "data": {
      "text/html": [
       "<div>\n",
       "<style scoped>\n",
       "    .dataframe tbody tr th:only-of-type {\n",
       "        vertical-align: middle;\n",
       "    }\n",
       "\n",
       "    .dataframe tbody tr th {\n",
       "        vertical-align: top;\n",
       "    }\n",
       "\n",
       "    .dataframe thead th {\n",
       "        text-align: right;\n",
       "    }\n",
       "</style>\n",
       "<table border=\"1\" class=\"dataframe\">\n",
       "  <thead>\n",
       "    <tr style=\"text-align: right;\">\n",
       "      <th></th>\n",
       "      <th>count</th>\n",
       "      <th>mean</th>\n",
       "      <th>std</th>\n",
       "      <th>min</th>\n",
       "      <th>25%</th>\n",
       "      <th>50%</th>\n",
       "      <th>75%</th>\n",
       "      <th>max</th>\n",
       "    </tr>\n",
       "  </thead>\n",
       "  <tbody>\n",
       "    <tr>\n",
       "      <th>person_age</th>\n",
       "      <td>34177.0</td>\n",
       "      <td>27.731018</td>\n",
       "      <td>6.345281</td>\n",
       "      <td>20.00</td>\n",
       "      <td>23.00</td>\n",
       "      <td>26.00</td>\n",
       "      <td>30.00</td>\n",
       "      <td>144.00</td>\n",
       "    </tr>\n",
       "    <tr>\n",
       "      <th>person_income</th>\n",
       "      <td>34162.0</td>\n",
       "      <td>66028.687957</td>\n",
       "      <td>61405.057742</td>\n",
       "      <td>4000.00</td>\n",
       "      <td>38493.00</td>\n",
       "      <td>55000.00</td>\n",
       "      <td>79200.00</td>\n",
       "      <td>6000000.00</td>\n",
       "    </tr>\n",
       "    <tr>\n",
       "      <th>person_emp_length</th>\n",
       "      <td>33247.0</td>\n",
       "      <td>4.787229</td>\n",
       "      <td>4.137463</td>\n",
       "      <td>0.00</td>\n",
       "      <td>2.00</td>\n",
       "      <td>4.00</td>\n",
       "      <td>7.00</td>\n",
       "      <td>123.00</td>\n",
       "    </tr>\n",
       "    <tr>\n",
       "      <th>loan_amnt</th>\n",
       "      <td>34170.0</td>\n",
       "      <td>9590.576529</td>\n",
       "      <td>6320.429041</td>\n",
       "      <td>500.00</td>\n",
       "      <td>5000.00</td>\n",
       "      <td>8000.00</td>\n",
       "      <td>12200.00</td>\n",
       "      <td>35000.00</td>\n",
       "    </tr>\n",
       "    <tr>\n",
       "      <th>loan_int_rate</th>\n",
       "      <td>30871.0</td>\n",
       "      <td>11.013630</td>\n",
       "      <td>3.241240</td>\n",
       "      <td>5.42</td>\n",
       "      <td>7.90</td>\n",
       "      <td>10.99</td>\n",
       "      <td>13.47</td>\n",
       "      <td>23.22</td>\n",
       "    </tr>\n",
       "    <tr>\n",
       "      <th>loan_status</th>\n",
       "      <td>34158.0</td>\n",
       "      <td>0.218192</td>\n",
       "      <td>0.413024</td>\n",
       "      <td>0.00</td>\n",
       "      <td>0.00</td>\n",
       "      <td>0.00</td>\n",
       "      <td>0.00</td>\n",
       "      <td>1.00</td>\n",
       "    </tr>\n",
       "    <tr>\n",
       "      <th>loan_percent_income</th>\n",
       "      <td>34182.0</td>\n",
       "      <td>0.170227</td>\n",
       "      <td>0.106783</td>\n",
       "      <td>0.00</td>\n",
       "      <td>0.09</td>\n",
       "      <td>0.15</td>\n",
       "      <td>0.23</td>\n",
       "      <td>0.83</td>\n",
       "    </tr>\n",
       "    <tr>\n",
       "      <th>cb_person_cred_hist_length</th>\n",
       "      <td>34497.0</td>\n",
       "      <td>5.808186</td>\n",
       "      <td>4.063231</td>\n",
       "      <td>2.00</td>\n",
       "      <td>3.00</td>\n",
       "      <td>4.00</td>\n",
       "      <td>8.00</td>\n",
       "      <td>30.00</td>\n",
       "    </tr>\n",
       "  </tbody>\n",
       "</table>\n",
       "</div>"
      ],
      "text/plain": [
       "                              count          mean           std      min  \\\n",
       "person_age                  34177.0     27.731018      6.345281    20.00   \n",
       "person_income               34162.0  66028.687957  61405.057742  4000.00   \n",
       "person_emp_length           33247.0      4.787229      4.137463     0.00   \n",
       "loan_amnt                   34170.0   9590.576529   6320.429041   500.00   \n",
       "loan_int_rate               30871.0     11.013630      3.241240     5.42   \n",
       "loan_status                 34158.0      0.218192      0.413024     0.00   \n",
       "loan_percent_income         34182.0      0.170227      0.106783     0.00   \n",
       "cb_person_cred_hist_length  34497.0      5.808186      4.063231     2.00   \n",
       "\n",
       "                                 25%       50%       75%         max  \n",
       "person_age                     23.00     26.00     30.00      144.00  \n",
       "person_income               38493.00  55000.00  79200.00  6000000.00  \n",
       "person_emp_length               2.00      4.00      7.00      123.00  \n",
       "loan_amnt                    5000.00   8000.00  12200.00    35000.00  \n",
       "loan_int_rate                   7.90     10.99     13.47       23.22  \n",
       "loan_status                     0.00      0.00      0.00        1.00  \n",
       "loan_percent_income             0.09      0.15      0.23        0.83  \n",
       "cb_person_cred_hist_length      3.00      4.00      8.00       30.00  "
      ]
     },
     "execution_count": 20,
     "metadata": {},
     "output_type": "execute_result"
    }
   ],
   "source": [
    "df.describe().T"
   ]
  },
  {
   "cell_type": "markdown",
   "metadata": {},
   "source": [
    "## 1.3 - Notes"
   ]
  },
  {
   "cell_type": "code",
   "execution_count": 21,
   "metadata": {},
   "outputs": [
    {
     "data": {
      "text/html": [
       "<div>\n",
       "<style scoped>\n",
       "    .dataframe tbody tr th:only-of-type {\n",
       "        vertical-align: middle;\n",
       "    }\n",
       "\n",
       "    .dataframe tbody tr th {\n",
       "        vertical-align: top;\n",
       "    }\n",
       "\n",
       "    .dataframe thead th {\n",
       "        text-align: right;\n",
       "    }\n",
       "</style>\n",
       "<table border=\"1\" class=\"dataframe\">\n",
       "  <thead>\n",
       "    <tr style=\"text-align: right;\">\n",
       "      <th></th>\n",
       "      <th>person_age</th>\n",
       "      <th>person_income</th>\n",
       "      <th>person_home_ownership</th>\n",
       "      <th>person_emp_length</th>\n",
       "      <th>loan_intent</th>\n",
       "      <th>loan_grade</th>\n",
       "      <th>loan_amnt</th>\n",
       "      <th>loan_int_rate</th>\n",
       "      <th>loan_status</th>\n",
       "      <th>loan_percent_income</th>\n",
       "      <th>cb_person_default_on_file</th>\n",
       "      <th>cb_person_cred_hist_length</th>\n",
       "    </tr>\n",
       "  </thead>\n",
       "  <tbody>\n",
       "    <tr>\n",
       "      <th>16242</th>\n",
       "      <td>22.0</td>\n",
       "      <td>55000.0</td>\n",
       "      <td>Mortgage</td>\n",
       "      <td>6.0</td>\n",
       "      <td>Venture</td>\n",
       "      <td>A</td>\n",
       "      <td>10000.0</td>\n",
       "      <td>5.79</td>\n",
       "      <td>0.0</td>\n",
       "      <td>0.18</td>\n",
       "      <td>N</td>\n",
       "      <td>2.0</td>\n",
       "    </tr>\n",
       "    <tr>\n",
       "      <th>11034</th>\n",
       "      <td>24.0</td>\n",
       "      <td>26000.0</td>\n",
       "      <td>Rent</td>\n",
       "      <td>5.0</td>\n",
       "      <td>Venture</td>\n",
       "      <td>C</td>\n",
       "      <td>12000.0</td>\n",
       "      <td>14.26</td>\n",
       "      <td>1.0</td>\n",
       "      <td>0.46</td>\n",
       "      <td>N</td>\n",
       "      <td>3.0</td>\n",
       "    </tr>\n",
       "    <tr>\n",
       "      <th>11998</th>\n",
       "      <td>37.0</td>\n",
       "      <td>66150.0</td>\n",
       "      <td>Own</td>\n",
       "      <td>11.0</td>\n",
       "      <td>Personal</td>\n",
       "      <td>C</td>\n",
       "      <td>17000.0</td>\n",
       "      <td>12.73</td>\n",
       "      <td>0.0</td>\n",
       "      <td>0.26</td>\n",
       "      <td>N</td>\n",
       "      <td>17.0</td>\n",
       "    </tr>\n",
       "  </tbody>\n",
       "</table>\n",
       "</div>"
      ],
      "text/plain": [
       "       person_age  person_income person_home_ownership  person_emp_length  \\\n",
       "16242        22.0        55000.0              Mortgage                6.0   \n",
       "11034        24.0        26000.0                  Rent                5.0   \n",
       "11998        37.0        66150.0                   Own               11.0   \n",
       "\n",
       "      loan_intent loan_grade  loan_amnt  loan_int_rate  loan_status  \\\n",
       "16242     Venture          A    10000.0           5.79          0.0   \n",
       "11034     Venture          C    12000.0          14.26          1.0   \n",
       "11998    Personal          C    17000.0          12.73          0.0   \n",
       "\n",
       "       loan_percent_income cb_person_default_on_file  \\\n",
       "16242                 0.18                         N   \n",
       "11034                 0.46                         N   \n",
       "11998                 0.26                         N   \n",
       "\n",
       "       cb_person_cred_hist_length  \n",
       "16242                         2.0  \n",
       "11034                         3.0  \n",
       "11998                        17.0  "
      ]
     },
     "execution_count": 21,
     "metadata": {},
     "output_type": "execute_result"
    }
   ],
   "source": [
    "df.sample(3)"
   ]
  },
  {
   "cell_type": "markdown",
   "metadata": {},
   "source": [
    "<p align='center'>\n",
    "With this few commands, I know that I'm dealing with more than 34 thousand rows and 43 columns. <br> \n",
    "The data types are mostly numerical, but there are also some categorical variables. I also know that there just a few missing values, compared to the whole. Finally, I can see that the numerical variables have different scales, which is a problem that I'll have to deal with later.\n",
    "</p>"
   ]
  },
  {
   "cell_type": "markdown",
   "metadata": {},
   "source": [
    "# 2. Data Cleaning"
   ]
  },
  {
   "cell_type": "markdown",
   "metadata": {},
   "source": [
    "In this section, I'll be cleaning the dataset, removing unnecessary columns, filling missing values, and transforming categorical variables into numerical ones."
   ]
  },
  {
   "cell_type": "markdown",
   "metadata": {},
   "source": [
    "## "
   ]
  }
 ],
 "metadata": {
  "kernelspec": {
   "display_name": "Python 3.9.12 ('base')",
   "language": "python",
   "name": "python3"
  },
  "language_info": {
   "codemirror_mode": {
    "name": "ipython",
    "version": 3
   },
   "file_extension": ".py",
   "mimetype": "text/x-python",
   "name": "python",
   "nbconvert_exporter": "python",
   "pygments_lexer": "ipython3",
   "version": "3.9.12"
  },
  "orig_nbformat": 4,
  "vscode": {
   "interpreter": {
    "hash": "908dea1dc576708d697d7067f00ad37e00d47ca76da0fd85708627f3ae3ca9dd"
   }
  }
 },
 "nbformat": 4,
 "nbformat_minor": 2
}
